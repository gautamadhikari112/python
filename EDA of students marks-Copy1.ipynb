{
 "cells": [
  {
   "cell_type": "code",
   "execution_count": 23,
   "id": "7479e4d1-2549-4b39-914a-13f209367502",
   "metadata": {},
   "outputs": [],
   "source": [
    "import pandas as pd\n",
    "\n",
    "df = pd.read_csv(r\"C:\\Users\\gomes\\Downloads\\Student_Marks.csv\")\n",
    "courses_label = 'number_courses'\n",
    "time_label = 'time_study'\n",
    "marks_label = 'Marks'\n",
    "\n",
    "courses_mean = df[courses_label].mean(axis=0)\n",
    "time_mean = df[time_label].mean(axis=0)\n",
    "marks_mean = df[marks_label].mean(axis=0)\n",
    "\n",
    "courses_median = df[courses_label].median(axis=0)\n",
    "time_median = df[time_label].median(axis=0)\n",
    "marks_median = df[marks_label].median(axis=0)\n",
    "\n",
    "courses_sd = df[courses_label].std(axis=0)\n",
    "time_sd = df[time_label].std(axis=0)\n",
    "marks_sd = df[marks_label].std(axis=0)"
   ]
  },
  {
   "cell_type": "code",
   "execution_count": 24,
   "id": "b56e8c38-aab0-43ec-901b-39689fd9dae6",
   "metadata": {},
   "outputs": [
    {
     "name": "stdout",
     "output_type": "stream",
     "text": [
      "Courses mean = 5.29\n",
      "Time mean = 4.07714\n",
      "Marks mean = 24.417689999999997\n",
      "\n",
      "Courses median = 5.0\n",
      "Time median = 4.022\n",
      "Marks median = 20.0595\n",
      "\n",
      "Courses sd = 1.79952294463917\n",
      "Time sd = 2.372914144202772\n",
      "Marks sd = 14.326198570757976\n",
      "\n"
     ]
    }
   ],
   "source": [
    "print(f'''Courses mean = {courses_mean}\n",
    "Time mean = {time_mean}\n",
    "Marks mean = {marks_mean}\n",
    "''')\n",
    "\n",
    "print(f'''Courses median = {courses_median}\n",
    "Time median = {time_median}\n",
    "Marks median = {marks_median}\n",
    "''')\n",
    "\n",
    "print(f'''Courses sd = {courses_sd}\n",
    "Time sd = {time_sd}\n",
    "Marks sd = {marks_sd}\n",
    "''')"
   ]
  },
  {
   "cell_type": "code",
   "execution_count": 27,
   "id": "f0b111ca-6cef-4c2f-86bd-c27b77183565",
   "metadata": {},
   "outputs": [
    {
     "data": {
      "text/plain": [
       "{'whiskers': [<matplotlib.lines.Line2D at 0x257b5997750>,\n",
       "  <matplotlib.lines.Line2D at 0x257b59a0190>],\n",
       " 'caps': [<matplotlib.lines.Line2D at 0x257b59a0a50>,\n",
       "  <matplotlib.lines.Line2D at 0x257b59a15d0>],\n",
       " 'boxes': [<matplotlib.lines.Line2D at 0x257b5996b90>],\n",
       " 'medians': [<matplotlib.lines.Line2D at 0x257b59a2050>],\n",
       " 'fliers': [<matplotlib.lines.Line2D at 0x257b59a2ad0>],\n",
       " 'means': []}"
      ]
     },
     "execution_count": 27,
     "metadata": {},
     "output_type": "execute_result"
    },
    {
     "data": {
      "image/png": "[encoded data removed]",
      "text/plain": [
       "<Figure size 640x480 with 1 Axes>"
      ]
     },
     "metadata": {},
     "output_type": "display_data"
    }
   ],
   "source": [
    "import matplotlib.pyplot as plt\n",
    "plt.boxplot(df[marks_label])"
   ]
  },
  {
   "cell_type": "code",
   "execution_count": null,
   "id": "91326197-2d15-4f70-8475-572cdb7a1979",
   "metadata": {},
   "outputs": [],
   "source": []
  }
 ],
 "metadata": {
  "kernelspec": {
   "display_name": "Python 3 (ipykernel)",
   "language": "python",
   "name": "python3"
  },
  "language_info": {
   "codemirror_mode": {
    "name": "ipython",
    "version": 3
   },
   "file_extension": ".py",
   "mimetype": "text/x-python",
   "name": "python",
   "nbconvert_exporter": "python",
   "pygments_lexer": "ipython3",
   "version": "3.11.5"
  }
 },
 "nbformat": 4,
 "nbformat_minor": 5
}
